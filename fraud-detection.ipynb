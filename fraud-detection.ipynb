{
 "cells": [
  {
   "cell_type": "markdown",
   "id": "e5634001",
   "metadata": {},
   "source": [
    "# **Trabalho Prático 1: Fraud Detection**\n",
    "## Lara Gama Santos e Victor Samuel Levindo Mont'Mor\n",
    "\n",
    "\n",
    "\n",
    "---"
   ]
  },
  {
   "cell_type": "markdown",
   "id": "2226d032",
   "metadata": {},
   "source": [
    "### 1. Leitura dos dados\n",
    "\n",
    "Nessa etapa, precisamos fazer a leitura e análise dos dados. Temos as tabelas identity e transaction com uma relação de 1 para N, ou seja, uma identidade pode ter N transações. Para treinar o modelo, precisamos tratar esses dados. Dessa forma, aplicamos um Merge Left entre as tabelas, utilizando a chave `TransactionID` como união.\n",
    "\n",
    "Algumas colunas (id) estão rotuladas incorretamente em test_identity, então tivemos que tratar os dados. Para isso, percorremos as colunas e aplicando a correção. "
   ]
  },
  {
   "cell_type": "code",
   "execution_count": 12,
   "id": "d67437e5",
   "metadata": {},
   "outputs": [],
   "source": [
    "import pandas as pd\n",
    "\n",
    "# Carregar os dados de transação e identidade, e aplicar um merge para combinar os conjuntos de dados\n",
    "df_train_transaction = pd.read_csv('data/train_transaction.csv')\n",
    "df_train_identity = pd.read_csv('data/train_identity.csv')\n",
    "df_train = df_train_transaction.merge(df_train_identity,on=['TransactionID'],how='left')\n",
    "df_test_transaction = pd.read_csv('data/test_transaction.csv')\n",
    "df_test_identity = pd.read_csv('data/test_identity.csv')\n",
    "\n",
    "# Algumas colunas (id) estão rotuladas incorretamente em test_identity. Abaixo está a correção para isso\n",
    "id_cols = [col for col in df_test_identity.columns if col[0]+col[1] == 'id']\n",
    "rename_cols = {i:'id_'+str(i[-2]+i[-1]) for i in id_cols}\n",
    "df_test_identity = df_test_identity.rename(columns=rename_cols)\n",
    "df_test = df_test_transaction.merge(df_test_identity,on=['TransactionID'],how='left')\n",
    "df_train.to_csv('data/train_combined.csv',index=False)\n",
    "df_test.to_csv('data/test_combined.csv',index=False)"
   ]
  },
  {
   "cell_type": "markdown",
   "id": "478e03dd",
   "metadata": {},
   "source": [
    "### 2. Análise exploratória de dados:\n",
    "\n",
    "- Extrair variáveis importantes e deixar para trás variáveis inúteis.\n",
    "- Identificar outliers, valores ausentes ou erros humanos.\n",
    "- Compreender as relações, ou a falta dela, entre as variáveis.\n",
    "- Maximizar seus insights sobre um conjunto de dados e minimizar potenciais erros que possam ocorrer mais tarde no processo."
   ]
  },
  {
   "cell_type": "markdown",
   "id": "76a9af6c",
   "metadata": {},
   "source": [
    "Entendendo o dado:\n",
    "- .shape retorna o número de linhas pelo número de colunas do meu conjunto de dados.\n",
    "- .columns retorna o nome de todas as suas colunas no conjunto de dados.\n",
    "- .head() retorna as primeiras 5 linhas do meu conjunto de dados. Isso é útil se você quiser ver alguns valores de exemplo para cada variável.\n",
    "- .info() retorna o tipo das colunas e a quantidade de valores não nulos que temos nelas.\n",
    "- .describe() resume a contagem, média, desvio padrão, mínimo e máximo para variáveis numéricas."
   ]
  },
  {
   "cell_type": "code",
   "execution_count": 14,
   "id": "58324509",
   "metadata": {},
   "outputs": [
    {
     "name": "stdout",
     "output_type": "stream",
     "text": [
      "(590540, 434)\n",
      "(506691, 433)\n"
     ]
    }
   ],
   "source": [
    "df_train = pd.read_csv('data/train_combined.csv')\n",
    "# Para fins de teste rápido, amostramos 10% dos dados de treinamento\n",
    "# df_train = df_train.sample(frac=0.1, random_state=42) # Comentar essa linha para usar o conjunto completo\n",
    "\n",
    "# Salve o arquivo de uma planilha com 1% dos dados de treinamento para testes rápidos\n",
    "# df_train.sample(frac=0.01, random_state=42).to_csv('data/train_sample_one_percent.csv', index=False) \n",
    "\n",
    "df_test = pd.read_csv('data/test_combined.csv')\n",
    "print(df_train.shape)\n",
    "print(df_test.shape)"
   ]
  },
  {
   "cell_type": "markdown",
   "id": "4c3028af",
   "metadata": {},
   "source": [
    "Nossa tabela tem 590540 linhas e 434 colunas"
   ]
  },
  {
   "cell_type": "code",
   "execution_count": 9,
   "id": "20a64c3f",
   "metadata": {},
   "outputs": [
    {
     "name": "stdout",
     "output_type": "stream",
     "text": [
      "Index(['TransactionID', 'isFraud', 'TransactionDT', 'TransactionAmt',\n",
      "       'ProductCD', 'card1', 'card2', 'card3', 'card4', 'card5',\n",
      "       ...\n",
      "       'id_31', 'id_32', 'id_33', 'id_34', 'id_35', 'id_36', 'id_37', 'id_38',\n",
      "       'DeviceType', 'DeviceInfo'],\n",
      "      dtype='object', length=434)\n"
     ]
    }
   ],
   "source": [
    "print(df_train.columns)"
   ]
  },
  {
   "cell_type": "code",
   "execution_count": 10,
   "id": "9f0b4788",
   "metadata": {},
   "outputs": [
    {
     "name": "stdout",
     "output_type": "stream",
     "text": [
      "   TransactionID  isFraud  TransactionDT  TransactionAmt ProductCD  card1  \\\n",
      "0        2987000        0          86400            68.5         W  13926   \n",
      "1        2987001        0          86401            29.0         W   2755   \n",
      "2        2987002        0          86469            59.0         W   4663   \n",
      "3        2987003        0          86499            50.0         W  18132   \n",
      "4        2987004        0          86506            50.0         H   4497   \n",
      "\n",
      "   card2  card3       card4  card5  ...                id_31  id_32  \\\n",
      "0    NaN  150.0    discover  142.0  ...                  NaN    NaN   \n",
      "1  404.0  150.0  mastercard  102.0  ...                  NaN    NaN   \n",
      "2  490.0  150.0        visa  166.0  ...                  NaN    NaN   \n",
      "3  567.0  150.0  mastercard  117.0  ...                  NaN    NaN   \n",
      "4  514.0  150.0  mastercard  102.0  ...  samsung browser 6.2   32.0   \n",
      "\n",
      "       id_33           id_34  id_35 id_36 id_37  id_38  DeviceType  \\\n",
      "0        NaN             NaN    NaN   NaN   NaN    NaN         NaN   \n",
      "1        NaN             NaN    NaN   NaN   NaN    NaN         NaN   \n",
      "2        NaN             NaN    NaN   NaN   NaN    NaN         NaN   \n",
      "3        NaN             NaN    NaN   NaN   NaN    NaN         NaN   \n",
      "4  2220x1080  match_status:2      T     F     T      T      mobile   \n",
      "\n",
      "                      DeviceInfo  \n",
      "0                            NaN  \n",
      "1                            NaN  \n",
      "2                            NaN  \n",
      "3                            NaN  \n",
      "4  SAMSUNG SM-G892A Build/NRD90M  \n",
      "\n",
      "[5 rows x 434 columns]\n"
     ]
    }
   ],
   "source": [
    "print(df_train.head())"
   ]
  },
  {
   "cell_type": "code",
   "execution_count": 11,
   "id": "9742c6f1",
   "metadata": {},
   "outputs": [
    {
     "name": "stdout",
     "output_type": "stream",
     "text": [
      "<class 'pandas.core.frame.DataFrame'>\n",
      "RangeIndex: 590540 entries, 0 to 590539\n",
      "Columns: 434 entries, TransactionID to DeviceInfo\n",
      "dtypes: float64(399), int64(4), object(31)\n",
      "memory usage: 1.9+ GB\n",
      "None\n"
     ]
    }
   ],
   "source": [
    "print(df_train.info())"
   ]
  },
  {
   "cell_type": "code",
   "execution_count": 6,
   "id": "621bd59b",
   "metadata": {},
   "outputs": [
    {
     "data": {
      "text/html": [
       "<div>\n",
       "<style scoped>\n",
       "    .dataframe tbody tr th:only-of-type {\n",
       "        vertical-align: middle;\n",
       "    }\n",
       "\n",
       "    .dataframe tbody tr th {\n",
       "        vertical-align: top;\n",
       "    }\n",
       "\n",
       "    .dataframe thead th {\n",
       "        text-align: right;\n",
       "    }\n",
       "</style>\n",
       "<table border=\"1\" class=\"dataframe\">\n",
       "  <thead>\n",
       "    <tr style=\"text-align: right;\">\n",
       "      <th></th>\n",
       "      <th>TransactionID</th>\n",
       "      <th>isFraud</th>\n",
       "      <th>TransactionDT</th>\n",
       "      <th>TransactionAmt</th>\n",
       "      <th>card1</th>\n",
       "      <th>card2</th>\n",
       "      <th>card3</th>\n",
       "      <th>card5</th>\n",
       "      <th>addr1</th>\n",
       "      <th>addr2</th>\n",
       "      <th>...</th>\n",
       "      <th>id_17</th>\n",
       "      <th>id_18</th>\n",
       "      <th>id_19</th>\n",
       "      <th>id_20</th>\n",
       "      <th>id_21</th>\n",
       "      <th>id_22</th>\n",
       "      <th>id_24</th>\n",
       "      <th>id_25</th>\n",
       "      <th>id_26</th>\n",
       "      <th>id_32</th>\n",
       "    </tr>\n",
       "  </thead>\n",
       "  <tbody>\n",
       "    <tr>\n",
       "      <th>count</th>\n",
       "      <td>5.905400e+05</td>\n",
       "      <td>590540.000000</td>\n",
       "      <td>5.905400e+05</td>\n",
       "      <td>590540.000000</td>\n",
       "      <td>590540.000000</td>\n",
       "      <td>581607.000000</td>\n",
       "      <td>588975.000000</td>\n",
       "      <td>586281.000000</td>\n",
       "      <td>524834.000000</td>\n",
       "      <td>524834.000000</td>\n",
       "      <td>...</td>\n",
       "      <td>139369.000000</td>\n",
       "      <td>45113.000000</td>\n",
       "      <td>139318.000000</td>\n",
       "      <td>139261.000000</td>\n",
       "      <td>5159.000000</td>\n",
       "      <td>5169.000000</td>\n",
       "      <td>4747.000000</td>\n",
       "      <td>5132.000000</td>\n",
       "      <td>5163.000000</td>\n",
       "      <td>77586.000000</td>\n",
       "    </tr>\n",
       "    <tr>\n",
       "      <th>mean</th>\n",
       "      <td>3.282270e+06</td>\n",
       "      <td>0.034990</td>\n",
       "      <td>7.372311e+06</td>\n",
       "      <td>135.027176</td>\n",
       "      <td>9898.734658</td>\n",
       "      <td>362.555488</td>\n",
       "      <td>153.194925</td>\n",
       "      <td>199.278897</td>\n",
       "      <td>290.733794</td>\n",
       "      <td>86.800630</td>\n",
       "      <td>...</td>\n",
       "      <td>189.451377</td>\n",
       "      <td>14.237337</td>\n",
       "      <td>353.128174</td>\n",
       "      <td>403.882666</td>\n",
       "      <td>368.269820</td>\n",
       "      <td>16.002708</td>\n",
       "      <td>12.800927</td>\n",
       "      <td>329.608924</td>\n",
       "      <td>149.070308</td>\n",
       "      <td>26.508597</td>\n",
       "    </tr>\n",
       "    <tr>\n",
       "      <th>std</th>\n",
       "      <td>1.704744e+05</td>\n",
       "      <td>0.183755</td>\n",
       "      <td>4.617224e+06</td>\n",
       "      <td>239.162522</td>\n",
       "      <td>4901.170153</td>\n",
       "      <td>157.793246</td>\n",
       "      <td>11.336444</td>\n",
       "      <td>41.244453</td>\n",
       "      <td>101.741072</td>\n",
       "      <td>2.690623</td>\n",
       "      <td>...</td>\n",
       "      <td>30.375360</td>\n",
       "      <td>1.561302</td>\n",
       "      <td>141.095343</td>\n",
       "      <td>152.160327</td>\n",
       "      <td>198.847038</td>\n",
       "      <td>6.897665</td>\n",
       "      <td>2.372447</td>\n",
       "      <td>97.461089</td>\n",
       "      <td>32.101995</td>\n",
       "      <td>3.737502</td>\n",
       "    </tr>\n",
       "    <tr>\n",
       "      <th>min</th>\n",
       "      <td>2.987000e+06</td>\n",
       "      <td>0.000000</td>\n",
       "      <td>8.640000e+04</td>\n",
       "      <td>0.251000</td>\n",
       "      <td>1000.000000</td>\n",
       "      <td>100.000000</td>\n",
       "      <td>100.000000</td>\n",
       "      <td>100.000000</td>\n",
       "      <td>100.000000</td>\n",
       "      <td>10.000000</td>\n",
       "      <td>...</td>\n",
       "      <td>100.000000</td>\n",
       "      <td>10.000000</td>\n",
       "      <td>100.000000</td>\n",
       "      <td>100.000000</td>\n",
       "      <td>100.000000</td>\n",
       "      <td>10.000000</td>\n",
       "      <td>11.000000</td>\n",
       "      <td>100.000000</td>\n",
       "      <td>100.000000</td>\n",
       "      <td>0.000000</td>\n",
       "    </tr>\n",
       "    <tr>\n",
       "      <th>25%</th>\n",
       "      <td>3.134635e+06</td>\n",
       "      <td>0.000000</td>\n",
       "      <td>3.027058e+06</td>\n",
       "      <td>43.321000</td>\n",
       "      <td>6019.000000</td>\n",
       "      <td>214.000000</td>\n",
       "      <td>150.000000</td>\n",
       "      <td>166.000000</td>\n",
       "      <td>204.000000</td>\n",
       "      <td>87.000000</td>\n",
       "      <td>...</td>\n",
       "      <td>166.000000</td>\n",
       "      <td>13.000000</td>\n",
       "      <td>266.000000</td>\n",
       "      <td>256.000000</td>\n",
       "      <td>252.000000</td>\n",
       "      <td>14.000000</td>\n",
       "      <td>11.000000</td>\n",
       "      <td>321.000000</td>\n",
       "      <td>119.000000</td>\n",
       "      <td>24.000000</td>\n",
       "    </tr>\n",
       "    <tr>\n",
       "      <th>50%</th>\n",
       "      <td>3.282270e+06</td>\n",
       "      <td>0.000000</td>\n",
       "      <td>7.306528e+06</td>\n",
       "      <td>68.769000</td>\n",
       "      <td>9678.000000</td>\n",
       "      <td>361.000000</td>\n",
       "      <td>150.000000</td>\n",
       "      <td>226.000000</td>\n",
       "      <td>299.000000</td>\n",
       "      <td>87.000000</td>\n",
       "      <td>...</td>\n",
       "      <td>166.000000</td>\n",
       "      <td>15.000000</td>\n",
       "      <td>341.000000</td>\n",
       "      <td>472.000000</td>\n",
       "      <td>252.000000</td>\n",
       "      <td>14.000000</td>\n",
       "      <td>11.000000</td>\n",
       "      <td>321.000000</td>\n",
       "      <td>149.000000</td>\n",
       "      <td>24.000000</td>\n",
       "    </tr>\n",
       "    <tr>\n",
       "      <th>75%</th>\n",
       "      <td>3.429904e+06</td>\n",
       "      <td>0.000000</td>\n",
       "      <td>1.124662e+07</td>\n",
       "      <td>125.000000</td>\n",
       "      <td>14184.000000</td>\n",
       "      <td>512.000000</td>\n",
       "      <td>150.000000</td>\n",
       "      <td>226.000000</td>\n",
       "      <td>330.000000</td>\n",
       "      <td>87.000000</td>\n",
       "      <td>...</td>\n",
       "      <td>225.000000</td>\n",
       "      <td>15.000000</td>\n",
       "      <td>427.000000</td>\n",
       "      <td>533.000000</td>\n",
       "      <td>486.500000</td>\n",
       "      <td>14.000000</td>\n",
       "      <td>15.000000</td>\n",
       "      <td>371.000000</td>\n",
       "      <td>169.000000</td>\n",
       "      <td>32.000000</td>\n",
       "    </tr>\n",
       "    <tr>\n",
       "      <th>max</th>\n",
       "      <td>3.577539e+06</td>\n",
       "      <td>1.000000</td>\n",
       "      <td>1.581113e+07</td>\n",
       "      <td>31937.391000</td>\n",
       "      <td>18396.000000</td>\n",
       "      <td>600.000000</td>\n",
       "      <td>231.000000</td>\n",
       "      <td>237.000000</td>\n",
       "      <td>540.000000</td>\n",
       "      <td>102.000000</td>\n",
       "      <td>...</td>\n",
       "      <td>229.000000</td>\n",
       "      <td>29.000000</td>\n",
       "      <td>671.000000</td>\n",
       "      <td>661.000000</td>\n",
       "      <td>854.000000</td>\n",
       "      <td>44.000000</td>\n",
       "      <td>26.000000</td>\n",
       "      <td>548.000000</td>\n",
       "      <td>216.000000</td>\n",
       "      <td>32.000000</td>\n",
       "    </tr>\n",
       "  </tbody>\n",
       "</table>\n",
       "<p>8 rows × 403 columns</p>\n",
       "</div>"
      ],
      "text/plain": [
       "       TransactionID        isFraud  TransactionDT  TransactionAmt  \\\n",
       "count   5.905400e+05  590540.000000   5.905400e+05   590540.000000   \n",
       "mean    3.282270e+06       0.034990   7.372311e+06      135.027176   \n",
       "std     1.704744e+05       0.183755   4.617224e+06      239.162522   \n",
       "min     2.987000e+06       0.000000   8.640000e+04        0.251000   \n",
       "25%     3.134635e+06       0.000000   3.027058e+06       43.321000   \n",
       "50%     3.282270e+06       0.000000   7.306528e+06       68.769000   \n",
       "75%     3.429904e+06       0.000000   1.124662e+07      125.000000   \n",
       "max     3.577539e+06       1.000000   1.581113e+07    31937.391000   \n",
       "\n",
       "               card1          card2          card3          card5  \\\n",
       "count  590540.000000  581607.000000  588975.000000  586281.000000   \n",
       "mean     9898.734658     362.555488     153.194925     199.278897   \n",
       "std      4901.170153     157.793246      11.336444      41.244453   \n",
       "min      1000.000000     100.000000     100.000000     100.000000   \n",
       "25%      6019.000000     214.000000     150.000000     166.000000   \n",
       "50%      9678.000000     361.000000     150.000000     226.000000   \n",
       "75%     14184.000000     512.000000     150.000000     226.000000   \n",
       "max     18396.000000     600.000000     231.000000     237.000000   \n",
       "\n",
       "               addr1          addr2  ...          id_17         id_18  \\\n",
       "count  524834.000000  524834.000000  ...  139369.000000  45113.000000   \n",
       "mean      290.733794      86.800630  ...     189.451377     14.237337   \n",
       "std       101.741072       2.690623  ...      30.375360      1.561302   \n",
       "min       100.000000      10.000000  ...     100.000000     10.000000   \n",
       "25%       204.000000      87.000000  ...     166.000000     13.000000   \n",
       "50%       299.000000      87.000000  ...     166.000000     15.000000   \n",
       "75%       330.000000      87.000000  ...     225.000000     15.000000   \n",
       "max       540.000000     102.000000  ...     229.000000     29.000000   \n",
       "\n",
       "               id_19          id_20        id_21        id_22        id_24  \\\n",
       "count  139318.000000  139261.000000  5159.000000  5169.000000  4747.000000   \n",
       "mean      353.128174     403.882666   368.269820    16.002708    12.800927   \n",
       "std       141.095343     152.160327   198.847038     6.897665     2.372447   \n",
       "min       100.000000     100.000000   100.000000    10.000000    11.000000   \n",
       "25%       266.000000     256.000000   252.000000    14.000000    11.000000   \n",
       "50%       341.000000     472.000000   252.000000    14.000000    11.000000   \n",
       "75%       427.000000     533.000000   486.500000    14.000000    15.000000   \n",
       "max       671.000000     661.000000   854.000000    44.000000    26.000000   \n",
       "\n",
       "             id_25        id_26         id_32  \n",
       "count  5132.000000  5163.000000  77586.000000  \n",
       "mean    329.608924   149.070308     26.508597  \n",
       "std      97.461089    32.101995      3.737502  \n",
       "min     100.000000   100.000000      0.000000  \n",
       "25%     321.000000   119.000000     24.000000  \n",
       "50%     321.000000   149.000000     24.000000  \n",
       "75%     371.000000   169.000000     32.000000  \n",
       "max     548.000000   216.000000     32.000000  \n",
       "\n",
       "[8 rows x 403 columns]"
      ]
     },
     "execution_count": 6,
     "metadata": {},
     "output_type": "execute_result"
    }
   ],
   "source": [
    "df_train.describe()\n",
    "# df_train['nome_da_coluna_categorica'].value_counts()\n",
    "# NA_val = df_cleaned.isna().sum() # conta quantos nulos tem nas colunas"
   ]
  },
  {
   "cell_type": "markdown",
   "id": "942f1ad9",
   "metadata": {},
   "source": [
    "* Muitas Features: O conjunto de dados possui 434 colunas, o que é um número bem grande. Isso sugere que, no futuro, talvez precisemos de técnicas para selecionar as features mais importantes ou para reduzir a dimensionalidade.\n",
    "* Valores Ausentes (Missing Values): Muitas colunas têm uma contagem de valores menor que o total de linhas (590.540), o que indica a presença de valores ausentes. Por exemplo, a coluna id_17 tem apenas 139.369 valores preenchidos. Lidar com esses valores ausentes será um passo crucial no pré-processamento dos dados.\n",
    "* Dados Desbalanceados: A variável que queremos prever, isFraud, tem uma média de aproximadamente 0.035. Isso significa que apenas cerca de 3,5% das transações no conjunto de dados são fraudulentas. Este é um ponto muito importante, pois o desbalanceamento pode fazer com que o modelo de machine learning tenha uma tendência a prever que uma transação não é fraude, simplesmente porque essa é a classe majoritária.\n",
    "* Diferentes Tipos e Escalas de Features: Existem features numéricas e categóricas (não numéricas). Além disso, as features numéricas estão em escalas muito diferentes. Por exemplo, TransactionAmt (valor da transação) chega a mais de 31.000, enquanto id_18 tem um valor máximo de 29. Será importante normalizar ou padronizar essas features."
   ]
  },
  {
   "cell_type": "markdown",
   "id": "a9a8b7c6",
   "metadata": {},
   "source": [
    "#### 1. Análise de valores ausentes"
   ]
  },
  {
   "cell_type": "code",
   "execution_count": null,
   "id": "b5d3e2f1",
   "metadata": {},
   "outputs": [],
   "source": [
    "import numpy as np\n",
    "import seaborn as sns\n",
    "\n",
    "total = df_train.isnull().sum().sort_values(ascending = False)\n",
    "percent = (df_train.isnull().sum()/df_train.isnull().count()*100).sort_values(ascending = False)\n",
    "missing_data = pd.concat([total, percent], axis=1, keys=['Total', 'Percent'])\n",
    "missing_data.head(20)"
   ]
  },
  {
   "cell_type": "markdown",
   "id": "c8d7e6f5",
   "metadata": {},
   "source": [
    "#### 2. Visualização da distribuição da variável `isFraud`"
   ]
  },
  {
   "cell_type": "code",
   "execution_count": null,
   "id": "d4e3f2a1",
   "metadata": {},
   "outputs": [],
   "source": [
    "plt.figure(figsize=(8, 6))\n",
    "sns.countplot(x='isFraud', data=df_train)\n",
    "plt.title('Distribuição da Variável isFraud')\n",
    "plt.xlabel('isFraud')\n",
    "plt.ylabel('Contagem')\n",
    "plt.show()"
   ]
  },
  {
   "cell_type": "markdown",
   "id": "e3d2c1b0",
   "metadata": {},
   "source": [
    "#### 3. Exploração das features categóricas"
   ]
  },
  {
   "cell_type": "code",
   "execution_count": null,
   "id": "f9a8b7c6",
   "metadata": {},
   "outputs": [],
   "source": [
    "categorical_features = df_train.select_dtypes(include=['object']).columns\n",
    "df_train[categorical_features].describe()"
   ]
  },
  {
   "cell_type": "markdown",
   "id": "a4b3c2d1",
   "metadata": {},
   "source": [
    "#### 4. Análise da correlação entre as features numéricas"
   ]
  },
  {
   "cell_type": "code",
   "execution_count": null,
   "id": "b1c0d9e8",
   "metadata": {},
   "outputs": [],
   "source": [
    "numerical_features = df_train.select_dtypes(include=np.number).columns.tolist()\n",
    "correlation_matrix = df_train[numerical_features].corr()\n",
    "\n",
    "plt.figure(figsize=(12, 10))\n",
    "sns.heatmap(correlation_matrix, cmap='coolwarm', annot=False)\n",
    "plt.title('Matriz de Correlação de Features Numéricas')\n",
    "plt.show()"
   ]
  },
  {
   "cell_type": "markdown",
   "id": "8db28e8c",
   "metadata": {},
   "source": [
    "### 3. Métrica de avaliação\n",
    "\n",
    "O dataset escolhido apresenta dados reais de transações bancárias de e-commerce da empresa Vesta Corporation. O objetivo do desafio é, dada uma série de atributos, determinar se uma transação é ou não fraudulenta, para melhorar a eficácia de alertas de transações fraudulentas.\n",
    "\n",
    "O modelo é avaliado com base na área embaixo da curva ROC (Receiver Operating Characteristic). Trata-se de uma métrica de classificação caracterizada pela relação entre positivos verdadeiros e positivos falsos."
   ]
  },
  {
   "cell_type": "code",
   "execution_count": 1,
   "id": "6577839c",
   "metadata": {},
   "outputs": [
    {
     "data": {
      "image/webp": "[encoded data removed]",
      "text/plain": [
       "<IPython.core.display.Image object>"
      ]
     },
     "metadata": {},
     "output_type": "display_data"
    }
   ],
   "source": [
    "from IPython.display import Image, display\n",
    "display(Image(filename=\"imgs\\Curva-ROC.webp\"))"
   ]
  },
  {
   "cell_type": "markdown",
   "id": "3fa8de23",
   "metadata": {},
   "source": [
    "A área embaixo da curva quantifica a capacidade do modelo de separar classes. Seu valor varia de 0 a 1, onde 1 indica uma classificação perfeita.\n",
    "\n",
    "Essa métrica pode ser implementada em Python usando a função:\n",
    "\n",
    "*roc_auc_score(y_test, y_pred_probs)*\n",
    "\n",
    "(deixamos a implementação de fato para depois da construção do baseline, para que possamos avaliá-lo com base nas classificações geradas)"
   ]
  },
  {
   "cell_type": "code",
   "execution_count": null,
   "id": "03adb662",
   "metadata": {},
   "outputs": [],
   "source": [
    "import matplotlib.pyplot as plt\n",
    "from sklearn.metrics import roc_curve, roc_auc_score \n",
    "\n",
    "# Cálculo das probabilidades\n",
    "y_pred_probs = model.predict_proba(X_test)[:, 1] \n",
    "\n",
    "# A função roc_auc_score precisa dos valores verdadeiros e das probabilidades da classe positiva\n",
    "auc = roc_auc_score(y_test, y_pred_probs)\n",
    "print(f\"A AUC do modelo é: {auc:.4f}\")\n",
    "\n",
    "# Calcular a Curva ROC para visualização\n",
    "# A função roc_curve retorna três valores: taxas de falsos positivos,\n",
    "# taxas de verdadeiros positivos e os limiares (thresholds) usados.\n",
    "fpr, tpr, thresholds = roc_curve(y_test, y_pred_probs)\n",
    "\n",
    "# Visualizar a Curva ROC\n",
    "plt.figure(figsize=(8, 6))\n",
    "plt.plot(fpr, tpr, color='blue', lw=2, label=f'Curva ROC (AUC = {auc:.2f})')\n",
    "plt.plot([0, 1], [0, 1], color='red', lw=2, linestyle='--', label='Modelo Aleatório') # Linha de referência\n",
    "plt.xlabel('Taxa de Falsos Positivos (FPR)')\n",
    "plt.ylabel('Taxa de Verdadeiros Positivos (TPR)')\n",
    "plt.title('Curva ROC')\n",
    "plt.legend(loc=\"lower right\")\n",
    "plt.grid(True)\n",
    "plt.show()"
   ]
  },
  {
   "cell_type": "markdown",
   "id": "544b4f41",
   "metadata": {},
   "source": [
    "### 4. Baseline\n",
    "\n",
    "Como baseline, decidimos implementar uma árvore de decisão com profundidade máxima baixa, para que execute rapidamente"
   ]
  }
 ],
 "metadata": {
  "kernelspec": {
   "display_name": "fraud-detection.venv (3.11.2)",
   "language": "python",
   "name": "python3"
  },
  "language_info": {
   "codemirror_mode": {
    "name": "ipython",
    "version": 3
   },
   "file_extension": ".py",
   "mimetype": "text/x-python",
   "name": "python",
   "nbconvert_exporter": "python",
   "pygments_lexer": "ipython3",
   "version": "3.11.2"
  }
 },
 "nbformat": 4,
 "nbformat_minor": 5
}
